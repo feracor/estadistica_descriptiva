{
  "nbformat": 4,
  "nbformat_minor": 0,
  "metadata": {
    "colab": {
      "provenance": [],
      "authorship_tag": "ABX9TyM/yRRz5RDy4ufwfNkNGRBG",
      "include_colab_link": true
    },
    "kernelspec": {
      "name": "python3",
      "display_name": "Python 3"
    },
    "language_info": {
      "name": "python"
    }
  },
  "cells": [
    {
      "cell_type": "markdown",
      "metadata": {
        "id": "view-in-github",
        "colab_type": "text"
      },
      "source": [
        "<a href=\"https://colab.research.google.com/github/feracor/estadistica_descriptiva/blob/main/2_estadistica_en_ingesta_de_datos.ipynb\" target=\"_parent\"><img src=\"https://colab.research.google.com/assets/colab-badge.svg\" alt=\"Open In Colab\"/></a>"
      ]
    },
    {
      "cell_type": "markdown",
      "source": [
        "#Procesamiento de datos numéricos"
      ],
      "metadata": {
        "id": "NaKOQcMlc8wf"
      }
    },
    {
      "cell_type": "code",
      "execution_count": 3,
      "metadata": {
        "id": "JMSF_xnkSEUp"
      },
      "outputs": [],
      "source": [
        "import timeit #Medir el performance de los modelos\n",
        "import numpy as np\n",
        "import pandas as pd\n",
        "import matplotlib.pyplot as plt\n",
        "from sklearn import datasets, linear_model #Descargar datasets y permir hacer uso de regresión lineal sencilla\n",
        "\n",
        "X, y = datasets.load_diabetes(return_X_y=True) #Cargar dataset\n",
        "raw = X[:, None, 2] #Realizar función de tranformación"
      ]
    },
    {
      "cell_type": "markdown",
      "source": [
        "##min-max"
      ],
      "metadata": {
        "id": "k7KTHf6slaU5"
      }
    },
    {
      "cell_type": "code",
      "source": [
        "max_raw = max(raw)\n",
        "min_raw = min(raw)\n",
        "scaled = ((2*raw - min_raw -max_raw)/(max_raw-min_raw))\n",
        "\n",
        "fig, axs = plt.subplots(nrows=2, ncols=1, sharex=True)\n",
        "axs[0].hist(raw) #Histograma datos raw\n",
        "axs[1].hist(scaled) #Histograma datos escalados\n",
        "\n",
        "plt.show()"
      ],
      "metadata": {
        "colab": {
          "base_uri": "https://localhost:8080/",
          "height": 431
        },
        "id": "eQxmuD-PksC4",
        "outputId": "efa5a938-2863-4ee9-d75e-6c07cd16ac3a"
      },
      "execution_count": 7,
      "outputs": [
        {
          "output_type": "display_data",
          "data": {
            "text/plain": [
              "<Figure size 640x480 with 2 Axes>"
            ],
            "image/png": "[encoded data removed]"
          },
          "metadata": {}
        }
      ]
    },
    {
      "cell_type": "code",
      "source": [
        "#Modelo para entrenamiento\n",
        "\n",
        "# Medir el entrenamiento sobre los datos raw\n",
        "def train_raw():\n",
        "  linear_model.LinearRegression().fit(raw, y) #Toma métodos de sklearn. Se ajusta a los datos raw y a una variable y declarada en la primer celda al cargar el dataset\n",
        "\n",
        "# Medir el entrenamiento sobre los datos escalados\n",
        "def train_scaled():\n",
        "  linear_model.LinearRegression().fit(scaled, y)\n"
      ],
      "metadata": {
        "id": "ye7LbJ4Qmygf"
      },
      "execution_count": 11,
      "outputs": []
    },
    {
      "cell_type": "code",
      "source": [
        "raw_time = timeit.timeit(train_raw, number=100) #Calcula el tiempo con 100 ciclos\n",
        "scaled_time = timeit.timeit(train_scaled, number=100)\n",
        "print('train raw : {}'.format(raw_time))\n",
        "print('train scaled : {}'.format(scaled_time)) #Evidenciar reduccion en el tiempo de ejecución"
      ],
      "metadata": {
        "colab": {
          "base_uri": "https://localhost:8080/"
        },
        "id": "e_rddcSBoBQH",
        "outputId": "c520214a-de65-434a-8424-96526403e3dc"
      },
      "execution_count": 13,
      "outputs": [
        {
          "output_type": "stream",
          "name": "stdout",
          "text": [
            "train raw : 0.17292266499998732\n",
            "train scaled : 0.10518396500015115\n"
          ]
        }
      ]
    },
    {
      "cell_type": "code",
      "source": [],
      "metadata": {
        "id": "o2YuB9ylo5kX"
      },
      "execution_count": null,
      "outputs": []
    }
  ]
}